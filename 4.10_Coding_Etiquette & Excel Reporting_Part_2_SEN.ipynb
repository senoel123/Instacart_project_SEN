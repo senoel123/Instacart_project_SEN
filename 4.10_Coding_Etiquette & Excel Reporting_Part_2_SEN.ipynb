{
 "cells": [
  {
   "cell_type": "code",
   "execution_count": 1,
   "id": "58fdd7ad",
   "metadata": {},
   "outputs": [
    {
     "data": {
      "text/plain": [
       "35"
      ]
     },
     "execution_count": 1,
     "metadata": {},
     "output_type": "execute_result"
    }
   ],
   "source": [
    "#  release an unreferenced memory \n",
    "\n",
    "import gc\n",
    "import warnings\n",
    "warnings.simplefilter('ignore')\n",
    "\n",
    "import subprocess\n",
    "gc.collect()"
   ]
  },
  {
   "cell_type": "code",
   "execution_count": 2,
   "id": "d9140db6",
   "metadata": {},
   "outputs": [],
   "source": [
    "#Import libraries\n",
    "\n",
    "import pandas as pd\n",
    "import numpy as np\n",
    "import os\n",
    "import matplotlib.pyplot as plt\n",
    "import seaborn as sns\n",
    "import scipy"
   ]
  },
  {
   "cell_type": "code",
   "execution_count": 3,
   "id": "0c969711",
   "metadata": {},
   "outputs": [],
   "source": [
    "#read in pickle file\n",
    "\n",
    "ords_prods_merge = pd.read_pickle(r'C:\\Users\\senoe\\OneDrive\\SEN Docs\\Data Sci Job Applications\\CareerFoundry\\Datasets\\Sent Client\\orders_products_merge_comined_2.pkl')"
   ]
  },
  {
   "cell_type": "code",
   "execution_count": 4,
   "id": "a1465d44",
   "metadata": {},
   "outputs": [
    {
     "data": {
      "text/html": [
       "<div>\n",
       "<style scoped>\n",
       "    .dataframe tbody tr th:only-of-type {\n",
       "        vertical-align: middle;\n",
       "    }\n",
       "\n",
       "    .dataframe tbody tr th {\n",
       "        vertical-align: top;\n",
       "    }\n",
       "\n",
       "    .dataframe thead th {\n",
       "        text-align: right;\n",
       "    }\n",
       "</style>\n",
       "<table border=\"1\" class=\"dataframe\">\n",
       "  <thead>\n",
       "    <tr style=\"text-align: right;\">\n",
       "      <th></th>\n",
       "      <th>order_id</th>\n",
       "      <th>user_id</th>\n",
       "      <th>eval_set</th>\n",
       "      <th>order_number</th>\n",
       "      <th>orders_day_of_the_week</th>\n",
       "      <th>order_hour_of_day</th>\n",
       "      <th>days_since_prior_order</th>\n",
       "      <th>product_id</th>\n",
       "      <th>add_to_cart_order</th>\n",
       "      <th>reordered</th>\n",
       "      <th>...</th>\n",
       "      <th>surname</th>\n",
       "      <th>gender</th>\n",
       "      <th>state</th>\n",
       "      <th>age</th>\n",
       "      <th>date_joined</th>\n",
       "      <th>num_dependants</th>\n",
       "      <th>fam_status</th>\n",
       "      <th>income</th>\n",
       "      <th>region</th>\n",
       "      <th>spend_habits</th>\n",
       "    </tr>\n",
       "  </thead>\n",
       "  <tbody>\n",
       "    <tr>\n",
       "      <th>0</th>\n",
       "      <td>2539329</td>\n",
       "      <td>1</td>\n",
       "      <td>prior</td>\n",
       "      <td>1</td>\n",
       "      <td>2</td>\n",
       "      <td>8</td>\n",
       "      <td>0.0</td>\n",
       "      <td>-60</td>\n",
       "      <td>1</td>\n",
       "      <td>0</td>\n",
       "      <td>...</td>\n",
       "      <td>Nguyen</td>\n",
       "      <td>Female</td>\n",
       "      <td>Alabama</td>\n",
       "      <td>31</td>\n",
       "      <td>2/17/2019</td>\n",
       "      <td>3</td>\n",
       "      <td>married</td>\n",
       "      <td>40423</td>\n",
       "      <td>3</td>\n",
       "      <td>High Activity</td>\n",
       "    </tr>\n",
       "    <tr>\n",
       "      <th>1</th>\n",
       "      <td>2398795</td>\n",
       "      <td>1</td>\n",
       "      <td>prior</td>\n",
       "      <td>2</td>\n",
       "      <td>3</td>\n",
       "      <td>7</td>\n",
       "      <td>15.0</td>\n",
       "      <td>-60</td>\n",
       "      <td>1</td>\n",
       "      <td>1</td>\n",
       "      <td>...</td>\n",
       "      <td>Nguyen</td>\n",
       "      <td>Female</td>\n",
       "      <td>Alabama</td>\n",
       "      <td>31</td>\n",
       "      <td>2/17/2019</td>\n",
       "      <td>3</td>\n",
       "      <td>married</td>\n",
       "      <td>40423</td>\n",
       "      <td>3</td>\n",
       "      <td>High Activity</td>\n",
       "    </tr>\n",
       "    <tr>\n",
       "      <th>2</th>\n",
       "      <td>473747</td>\n",
       "      <td>1</td>\n",
       "      <td>prior</td>\n",
       "      <td>3</td>\n",
       "      <td>3</td>\n",
       "      <td>12</td>\n",
       "      <td>21.0</td>\n",
       "      <td>-60</td>\n",
       "      <td>1</td>\n",
       "      <td>1</td>\n",
       "      <td>...</td>\n",
       "      <td>Nguyen</td>\n",
       "      <td>Female</td>\n",
       "      <td>Alabama</td>\n",
       "      <td>31</td>\n",
       "      <td>2/17/2019</td>\n",
       "      <td>3</td>\n",
       "      <td>married</td>\n",
       "      <td>40423</td>\n",
       "      <td>3</td>\n",
       "      <td>High Activity</td>\n",
       "    </tr>\n",
       "    <tr>\n",
       "      <th>3</th>\n",
       "      <td>2254736</td>\n",
       "      <td>1</td>\n",
       "      <td>prior</td>\n",
       "      <td>4</td>\n",
       "      <td>4</td>\n",
       "      <td>7</td>\n",
       "      <td>29.0</td>\n",
       "      <td>-60</td>\n",
       "      <td>1</td>\n",
       "      <td>1</td>\n",
       "      <td>...</td>\n",
       "      <td>Nguyen</td>\n",
       "      <td>Female</td>\n",
       "      <td>Alabama</td>\n",
       "      <td>31</td>\n",
       "      <td>2/17/2019</td>\n",
       "      <td>3</td>\n",
       "      <td>married</td>\n",
       "      <td>40423</td>\n",
       "      <td>3</td>\n",
       "      <td>High Activity</td>\n",
       "    </tr>\n",
       "    <tr>\n",
       "      <th>4</th>\n",
       "      <td>431534</td>\n",
       "      <td>1</td>\n",
       "      <td>prior</td>\n",
       "      <td>5</td>\n",
       "      <td>4</td>\n",
       "      <td>15</td>\n",
       "      <td>28.0</td>\n",
       "      <td>-60</td>\n",
       "      <td>1</td>\n",
       "      <td>1</td>\n",
       "      <td>...</td>\n",
       "      <td>Nguyen</td>\n",
       "      <td>Female</td>\n",
       "      <td>Alabama</td>\n",
       "      <td>31</td>\n",
       "      <td>2/17/2019</td>\n",
       "      <td>3</td>\n",
       "      <td>married</td>\n",
       "      <td>40423</td>\n",
       "      <td>3</td>\n",
       "      <td>High Activity</td>\n",
       "    </tr>\n",
       "  </tbody>\n",
       "</table>\n",
       "<p>5 rows × 33 columns</p>\n",
       "</div>"
      ],
      "text/plain": [
       "   order_id  user_id eval_set  order_number  orders_day_of_the_week  \\\n",
       "0   2539329        1    prior             1                       2   \n",
       "1   2398795        1    prior             2                       3   \n",
       "2    473747        1    prior             3                       3   \n",
       "3   2254736        1    prior             4                       4   \n",
       "4    431534        1    prior             5                       4   \n",
       "\n",
       "   order_hour_of_day  days_since_prior_order  product_id  add_to_cart_order  \\\n",
       "0                  8                     0.0         -60                  1   \n",
       "1                  7                    15.0         -60                  1   \n",
       "2                 12                    21.0         -60                  1   \n",
       "3                  7                    29.0         -60                  1   \n",
       "4                 15                    28.0         -60                  1   \n",
       "\n",
       "   reordered  ... surname  gender    state  age  date_joined num_dependants  \\\n",
       "0          0  ...  Nguyen  Female  Alabama   31    2/17/2019              3   \n",
       "1          1  ...  Nguyen  Female  Alabama   31    2/17/2019              3   \n",
       "2          1  ...  Nguyen  Female  Alabama   31    2/17/2019              3   \n",
       "3          1  ...  Nguyen  Female  Alabama   31    2/17/2019              3   \n",
       "4          1  ...  Nguyen  Female  Alabama   31    2/17/2019              3   \n",
       "\n",
       "  fam_status income  region   spend_habits  \n",
       "0    married  40423       3  High Activity  \n",
       "1    married  40423       3  High Activity  \n",
       "2    married  40423       3  High Activity  \n",
       "3    married  40423       3  High Activity  \n",
       "4    married  40423       3  High Activity  \n",
       "\n",
       "[5 rows x 33 columns]"
      ]
     },
     "execution_count": 4,
     "metadata": {},
     "output_type": "execute_result"
    }
   ],
   "source": [
    "ords_prods_merge.head()"
   ]
  },
  {
   "cell_type": "code",
   "execution_count": 5,
   "id": "5a0b7a49",
   "metadata": {},
   "outputs": [
    {
     "data": {
      "text/plain": [
       "Index(['order_id', 'user_id', 'eval_set', 'order_number',\n",
       "       'orders_day_of_the_week', 'order_hour_of_day', 'days_since_prior_order',\n",
       "       'product_id', 'add_to_cart_order', 'reordered', '_merge',\n",
       "       'product_name', 'aisle_id', 'department_id', 'prices',\n",
       "       'price_range_loc', 'busiest_day', 'busiest_period_of_day', 'max_order',\n",
       "       'loyalty_flag', 'loyalty_flag_price', 'order_flag', 'first_name',\n",
       "       'surname', 'gender', 'state', 'age', 'date_joined', 'num_dependants',\n",
       "       'fam_status', 'income', 'region', 'spend_habits'],\n",
       "      dtype='object')"
      ]
     },
     "execution_count": 5,
     "metadata": {},
     "output_type": "execute_result"
    }
   ],
   "source": [
    "#check columns\n",
    "\n",
    "ords_prods_merge.columns"
   ]
  },
  {
   "cell_type": "code",
   "execution_count": 6,
   "id": "65265072",
   "metadata": {},
   "outputs": [
    {
     "data": {
      "text/plain": [
       "(30171424, 33)"
      ]
     },
     "execution_count": 6,
     "metadata": {},
     "output_type": "execute_result"
    }
   ],
   "source": [
    "ords_prods_merge.shape"
   ]
  },
  {
   "cell_type": "code",
   "execution_count": 7,
   "id": "20dce193",
   "metadata": {},
   "outputs": [],
   "source": [
    "#create new df with specific columns\n",
    "\n",
    "ords_prods_merge_new = ords_prods_merge[['age','income', 'department_id', 'num_dependants', 'orders_day_of_the_week', 'days_since_prior_order', 'region', 'spend_habits']].copy()"
   ]
  },
  {
   "cell_type": "code",
   "execution_count": 8,
   "id": "7d66f09b",
   "metadata": {},
   "outputs": [
    {
     "data": {
      "text/html": [
       "<div>\n",
       "<style scoped>\n",
       "    .dataframe tbody tr th:only-of-type {\n",
       "        vertical-align: middle;\n",
       "    }\n",
       "\n",
       "    .dataframe tbody tr th {\n",
       "        vertical-align: top;\n",
       "    }\n",
       "\n",
       "    .dataframe thead th {\n",
       "        text-align: right;\n",
       "    }\n",
       "</style>\n",
       "<table border=\"1\" class=\"dataframe\">\n",
       "  <thead>\n",
       "    <tr style=\"text-align: right;\">\n",
       "      <th></th>\n",
       "      <th>age</th>\n",
       "      <th>income</th>\n",
       "      <th>department_id</th>\n",
       "      <th>num_dependants</th>\n",
       "      <th>orders_day_of_the_week</th>\n",
       "      <th>days_since_prior_order</th>\n",
       "      <th>region</th>\n",
       "      <th>spend_habits</th>\n",
       "    </tr>\n",
       "  </thead>\n",
       "  <tbody>\n",
       "    <tr>\n",
       "      <th>0</th>\n",
       "      <td>31</td>\n",
       "      <td>40423</td>\n",
       "      <td>7</td>\n",
       "      <td>3</td>\n",
       "      <td>2</td>\n",
       "      <td>0.0</td>\n",
       "      <td>3</td>\n",
       "      <td>High Activity</td>\n",
       "    </tr>\n",
       "    <tr>\n",
       "      <th>1</th>\n",
       "      <td>31</td>\n",
       "      <td>40423</td>\n",
       "      <td>7</td>\n",
       "      <td>3</td>\n",
       "      <td>3</td>\n",
       "      <td>15.0</td>\n",
       "      <td>3</td>\n",
       "      <td>High Activity</td>\n",
       "    </tr>\n",
       "    <tr>\n",
       "      <th>2</th>\n",
       "      <td>31</td>\n",
       "      <td>40423</td>\n",
       "      <td>7</td>\n",
       "      <td>3</td>\n",
       "      <td>3</td>\n",
       "      <td>21.0</td>\n",
       "      <td>3</td>\n",
       "      <td>High Activity</td>\n",
       "    </tr>\n",
       "    <tr>\n",
       "      <th>3</th>\n",
       "      <td>31</td>\n",
       "      <td>40423</td>\n",
       "      <td>7</td>\n",
       "      <td>3</td>\n",
       "      <td>4</td>\n",
       "      <td>29.0</td>\n",
       "      <td>3</td>\n",
       "      <td>High Activity</td>\n",
       "    </tr>\n",
       "    <tr>\n",
       "      <th>4</th>\n",
       "      <td>31</td>\n",
       "      <td>40423</td>\n",
       "      <td>7</td>\n",
       "      <td>3</td>\n",
       "      <td>4</td>\n",
       "      <td>28.0</td>\n",
       "      <td>3</td>\n",
       "      <td>High Activity</td>\n",
       "    </tr>\n",
       "    <tr>\n",
       "      <th>5</th>\n",
       "      <td>31</td>\n",
       "      <td>40423</td>\n",
       "      <td>7</td>\n",
       "      <td>3</td>\n",
       "      <td>2</td>\n",
       "      <td>19.0</td>\n",
       "      <td>3</td>\n",
       "      <td>High Activity</td>\n",
       "    </tr>\n",
       "    <tr>\n",
       "      <th>6</th>\n",
       "      <td>31</td>\n",
       "      <td>40423</td>\n",
       "      <td>7</td>\n",
       "      <td>3</td>\n",
       "      <td>1</td>\n",
       "      <td>20.0</td>\n",
       "      <td>3</td>\n",
       "      <td>High Activity</td>\n",
       "    </tr>\n",
       "    <tr>\n",
       "      <th>7</th>\n",
       "      <td>31</td>\n",
       "      <td>40423</td>\n",
       "      <td>7</td>\n",
       "      <td>3</td>\n",
       "      <td>1</td>\n",
       "      <td>14.0</td>\n",
       "      <td>3</td>\n",
       "      <td>High Activity</td>\n",
       "    </tr>\n",
       "    <tr>\n",
       "      <th>8</th>\n",
       "      <td>31</td>\n",
       "      <td>40423</td>\n",
       "      <td>7</td>\n",
       "      <td>3</td>\n",
       "      <td>1</td>\n",
       "      <td>0.0</td>\n",
       "      <td>3</td>\n",
       "      <td>High Activity</td>\n",
       "    </tr>\n",
       "    <tr>\n",
       "      <th>9</th>\n",
       "      <td>31</td>\n",
       "      <td>40423</td>\n",
       "      <td>7</td>\n",
       "      <td>3</td>\n",
       "      <td>4</td>\n",
       "      <td>30.0</td>\n",
       "      <td>3</td>\n",
       "      <td>High Activity</td>\n",
       "    </tr>\n",
       "  </tbody>\n",
       "</table>\n",
       "</div>"
      ],
      "text/plain": [
       "   age  income  department_id  num_dependants  orders_day_of_the_week  \\\n",
       "0   31   40423              7               3                       2   \n",
       "1   31   40423              7               3                       3   \n",
       "2   31   40423              7               3                       3   \n",
       "3   31   40423              7               3                       4   \n",
       "4   31   40423              7               3                       4   \n",
       "5   31   40423              7               3                       2   \n",
       "6   31   40423              7               3                       1   \n",
       "7   31   40423              7               3                       1   \n",
       "8   31   40423              7               3                       1   \n",
       "9   31   40423              7               3                       4   \n",
       "\n",
       "   days_since_prior_order  region   spend_habits  \n",
       "0                     0.0       3  High Activity  \n",
       "1                    15.0       3  High Activity  \n",
       "2                    21.0       3  High Activity  \n",
       "3                    29.0       3  High Activity  \n",
       "4                    28.0       3  High Activity  \n",
       "5                    19.0       3  High Activity  \n",
       "6                    20.0       3  High Activity  \n",
       "7                    14.0       3  High Activity  \n",
       "8                     0.0       3  High Activity  \n",
       "9                    30.0       3  High Activity  "
      ]
     },
     "execution_count": 8,
     "metadata": {},
     "output_type": "execute_result"
    }
   ],
   "source": [
    "ords_prods_merge_new.head(10)"
   ]
  },
  {
   "cell_type": "code",
   "execution_count": 9,
   "id": "24c20405",
   "metadata": {},
   "outputs": [
    {
     "name": "stdout",
     "output_type": "stream",
     "text": [
      "<class 'pandas.core.frame.DataFrame'>\n",
      "Int64Index: 30171424 entries, 0 to 32404854\n",
      "Data columns (total 8 columns):\n",
      " #   Column                  Dtype  \n",
      "---  ------                  -----  \n",
      " 0   age                     int8   \n",
      " 1   income                  int32  \n",
      " 2   department_id           int8   \n",
      " 3   num_dependants          int8   \n",
      " 4   orders_day_of_the_week  int8   \n",
      " 5   days_since_prior_order  float16\n",
      " 6   region                  int32  \n",
      " 7   spend_habits            object \n",
      "dtypes: float16(1), int32(2), int8(4), object(1)\n",
      "memory usage: 863.2+ MB\n"
     ]
    }
   ],
   "source": [
    "ords_prods_merge_new.info()"
   ]
  },
  {
   "cell_type": "code",
   "execution_count": 10,
   "id": "ca8fb85d",
   "metadata": {},
   "outputs": [
    {
     "data": {
      "text/html": [
       "<div>\n",
       "<style scoped>\n",
       "    .dataframe tbody tr th:only-of-type {\n",
       "        vertical-align: middle;\n",
       "    }\n",
       "\n",
       "    .dataframe tbody tr th {\n",
       "        vertical-align: top;\n",
       "    }\n",
       "\n",
       "    .dataframe thead th {\n",
       "        text-align: right;\n",
       "    }\n",
       "</style>\n",
       "<table border=\"1\" class=\"dataframe\">\n",
       "  <thead>\n",
       "    <tr style=\"text-align: right;\">\n",
       "      <th></th>\n",
       "      <th>age</th>\n",
       "      <th>income</th>\n",
       "      <th>department_id</th>\n",
       "      <th>num_dependants</th>\n",
       "      <th>orders_day_of_the_week</th>\n",
       "      <th>days_since_prior_order</th>\n",
       "      <th>region</th>\n",
       "    </tr>\n",
       "  </thead>\n",
       "  <tbody>\n",
       "    <tr>\n",
       "      <th>count</th>\n",
       "      <td>3.017142e+07</td>\n",
       "      <td>3.017142e+07</td>\n",
       "      <td>3.017142e+07</td>\n",
       "      <td>3.017142e+07</td>\n",
       "      <td>3.017142e+07</td>\n",
       "      <td>30171424.0</td>\n",
       "      <td>3.017142e+07</td>\n",
       "    </tr>\n",
       "    <tr>\n",
       "      <th>mean</th>\n",
       "      <td>4.947082e+01</td>\n",
       "      <td>9.977020e+04</td>\n",
       "      <td>9.923708e+00</td>\n",
       "      <td>1.502004e+00</td>\n",
       "      <td>2.742373e+00</td>\n",
       "      <td>NaN</td>\n",
       "      <td>2.668825e+00</td>\n",
       "    </tr>\n",
       "    <tr>\n",
       "      <th>std</th>\n",
       "      <td>1.848772e+01</td>\n",
       "      <td>4.318342e+04</td>\n",
       "      <td>6.283019e+00</td>\n",
       "      <td>1.118931e+00</td>\n",
       "      <td>2.088409e+00</td>\n",
       "      <td>0.0</td>\n",
       "      <td>1.042416e+00</td>\n",
       "    </tr>\n",
       "    <tr>\n",
       "      <th>min</th>\n",
       "      <td>1.800000e+01</td>\n",
       "      <td>2.590300e+04</td>\n",
       "      <td>1.000000e+00</td>\n",
       "      <td>0.000000e+00</td>\n",
       "      <td>0.000000e+00</td>\n",
       "      <td>0.0</td>\n",
       "      <td>1.000000e+00</td>\n",
       "    </tr>\n",
       "    <tr>\n",
       "      <th>25%</th>\n",
       "      <td>3.300000e+01</td>\n",
       "      <td>6.742400e+04</td>\n",
       "      <td>4.000000e+00</td>\n",
       "      <td>1.000000e+00</td>\n",
       "      <td>1.000000e+00</td>\n",
       "      <td>4.0</td>\n",
       "      <td>2.000000e+00</td>\n",
       "    </tr>\n",
       "    <tr>\n",
       "      <th>50%</th>\n",
       "      <td>4.900000e+01</td>\n",
       "      <td>9.682300e+04</td>\n",
       "      <td>9.000000e+00</td>\n",
       "      <td>2.000000e+00</td>\n",
       "      <td>3.000000e+00</td>\n",
       "      <td>7.0</td>\n",
       "      <td>3.000000e+00</td>\n",
       "    </tr>\n",
       "    <tr>\n",
       "      <th>75%</th>\n",
       "      <td>6.500000e+01</td>\n",
       "      <td>1.281500e+05</td>\n",
       "      <td>1.600000e+01</td>\n",
       "      <td>3.000000e+00</td>\n",
       "      <td>5.000000e+00</td>\n",
       "      <td>14.0</td>\n",
       "      <td>4.000000e+00</td>\n",
       "    </tr>\n",
       "    <tr>\n",
       "      <th>max</th>\n",
       "      <td>8.100000e+01</td>\n",
       "      <td>5.939010e+05</td>\n",
       "      <td>2.100000e+01</td>\n",
       "      <td>3.000000e+00</td>\n",
       "      <td>6.000000e+00</td>\n",
       "      <td>30.0</td>\n",
       "      <td>4.000000e+00</td>\n",
       "    </tr>\n",
       "  </tbody>\n",
       "</table>\n",
       "</div>"
      ],
      "text/plain": [
       "                age        income  department_id  num_dependants  \\\n",
       "count  3.017142e+07  3.017142e+07   3.017142e+07    3.017142e+07   \n",
       "mean   4.947082e+01  9.977020e+04   9.923708e+00    1.502004e+00   \n",
       "std    1.848772e+01  4.318342e+04   6.283019e+00    1.118931e+00   \n",
       "min    1.800000e+01  2.590300e+04   1.000000e+00    0.000000e+00   \n",
       "25%    3.300000e+01  6.742400e+04   4.000000e+00    1.000000e+00   \n",
       "50%    4.900000e+01  9.682300e+04   9.000000e+00    2.000000e+00   \n",
       "75%    6.500000e+01  1.281500e+05   1.600000e+01    3.000000e+00   \n",
       "max    8.100000e+01  5.939010e+05   2.100000e+01    3.000000e+00   \n",
       "\n",
       "       orders_day_of_the_week  days_since_prior_order        region  \n",
       "count            3.017142e+07              30171424.0  3.017142e+07  \n",
       "mean             2.742373e+00                     NaN  2.668825e+00  \n",
       "std              2.088409e+00                     0.0  1.042416e+00  \n",
       "min              0.000000e+00                     0.0  1.000000e+00  \n",
       "25%              1.000000e+00                     4.0  2.000000e+00  \n",
       "50%              3.000000e+00                     7.0  3.000000e+00  \n",
       "75%              5.000000e+00                    14.0  4.000000e+00  \n",
       "max              6.000000e+00                    30.0  4.000000e+00  "
      ]
     },
     "execution_count": 10,
     "metadata": {},
     "output_type": "execute_result"
    }
   ],
   "source": [
    "ords_prods_merge_new.describe()"
   ]
  },
  {
   "cell_type": "code",
   "execution_count": 11,
   "id": "75e77015",
   "metadata": {},
   "outputs": [],
   "source": [
    "#drop dups\n",
    "\n",
    "ords_prods_merge_dup = ords_prods_merge_new.drop_duplicates()"
   ]
  },
  {
   "cell_type": "code",
   "execution_count": 12,
   "id": "427ca181",
   "metadata": {},
   "outputs": [
    {
     "data": {
      "text/plain": [
       "age                       0\n",
       "income                    0\n",
       "department_id             0\n",
       "num_dependants            0\n",
       "orders_day_of_the_week    0\n",
       "days_since_prior_order    0\n",
       "region                    0\n",
       "spend_habits              0\n",
       "dtype: int64"
      ]
     },
     "execution_count": 12,
     "metadata": {},
     "output_type": "execute_result"
    }
   ],
   "source": [
    "#check df for nan values\n",
    "\n",
    "ords_prods_merge_dup.isnull().sum()"
   ]
  },
  {
   "cell_type": "code",
   "execution_count": 13,
   "id": "fa5da97d",
   "metadata": {},
   "outputs": [],
   "source": [
    "#fixing [....] not found in index\n",
    "\n",
    "columns = ['age','income', 'department_id', 'num_dependants', 'orders_day_of_the_week', 'days_since_prior_order']\n",
    "ords_prods_merge_index = ords_prods_merge_dup.reindex(columns=columns)\n",
    "ords_prods_merge_index[columns] = ords_prods_merge_index[columns].astype(int)"
   ]
  },
  {
   "cell_type": "code",
   "execution_count": 14,
   "id": "6efa27e8",
   "metadata": {},
   "outputs": [],
   "source": [
    "ords_prods_merge_index.sort_index(axis=0, inplace=True)"
   ]
  },
  {
   "cell_type": "code",
   "execution_count": 15,
   "id": "a4026dc9",
   "metadata": {},
   "outputs": [],
   "source": [
    "ords_prods_merge_convert = ords_prods_merge_index.convert_dtypes(int)"
   ]
  },
  {
   "cell_type": "code",
   "execution_count": 16,
   "id": "b0feb980",
   "metadata": {},
   "outputs": [],
   "source": [
    "#sub-df\n",
    "\n",
    "age_income = ords_prods_merge_convert[['age', 'income', 'num_dependants']]"
   ]
  },
  {
   "cell_type": "code",
   "execution_count": 17,
   "id": "6fe63298",
   "metadata": {},
   "outputs": [
    {
     "data": {
      "text/plain": [
       "Text(0.5, 1.0, 'Household Income')"
      ]
     },
     "execution_count": 17,
     "metadata": {},
     "output_type": "execute_result"
    },
    {
     "data": {
      "image/png": "[encoded data removed]",
      "text/plain": [
       "<Figure size 640x480 with 1 Axes>"
      ]
     },
     "metadata": {},
     "output_type": "display_data"
    }
   ],
   "source": [
    "#create chart\n",
    "\n",
    "line = sns.lineplot(data = age_income, x = 'age',y = 'income')\n",
    "plt.title('Household Income')"
   ]
  },
  {
   "cell_type": "markdown",
   "id": "f6ce6585",
   "metadata": {},
   "source": [
    "At the age of 40 there is a large jump in income which peaks at around 140K.  There is a steep decline in income around the 75-77 years of age with another sharp upwards trend at around age 79-80. "
   ]
  },
  {
   "cell_type": "code",
   "execution_count": 18,
   "id": "54f3dcfa",
   "metadata": {},
   "outputs": [
    {
     "data": {
      "text/plain": [
       "Text(0.5, 1.0, 'Household size')"
      ]
     },
     "execution_count": 18,
     "metadata": {},
     "output_type": "execute_result"
    },
    {
     "data": {
      "image/png": "[encoded data removed]",
      "text/plain": [
       "<Figure size 640x480 with 1 Axes>"
      ]
     },
     "metadata": {},
     "output_type": "display_data"
    }
   ],
   "source": [
    "#Create histogram \n",
    "\n",
    "hist = age_income.plot(x = 'age',y = 'num_dependants', kind='hist', color='green', edgecolor='black', bins=int(8))\n",
    "plt.xlabel('No. of dependants')\n",
    "plt.ylabel('Frequencies')\n",
    "plt.title('Household size')"
   ]
  },
  {
   "cell_type": "markdown",
   "id": "1ec9049e",
   "metadata": {},
   "source": [
    "The is highest number of depends seems to between 2-3 persons per houshold.  "
   ]
  },
  {
   "cell_type": "code",
   "execution_count": 19,
   "id": "5392be92",
   "metadata": {},
   "outputs": [],
   "source": [
    "#create new df with specific columns\n",
    "\n",
    "cust_profile = ords_prods_merge[['age','income', 'department_id', 'num_dependants', 'orders_day_of_the_week', 'days_since_prior_order']].copy()"
   ]
  },
  {
   "cell_type": "code",
   "execution_count": 20,
   "id": "92360f67",
   "metadata": {},
   "outputs": [
    {
     "data": {
      "text/plain": [
       "Index(['age', 'income', 'department_id', 'num_dependants',\n",
       "       'orders_day_of_the_week', 'days_since_prior_order'],\n",
       "      dtype='object')"
      ]
     },
     "execution_count": 20,
     "metadata": {},
     "output_type": "execute_result"
    }
   ],
   "source": [
    "cust_profile.columns"
   ]
  },
  {
   "cell_type": "code",
   "execution_count": 21,
   "id": "c426469b",
   "metadata": {},
   "outputs": [],
   "source": [
    "#new df index\n",
    "\n",
    "cust_profile.sort_index(axis=0, inplace=True)"
   ]
  },
  {
   "cell_type": "code",
   "execution_count": 22,
   "id": "7dbaa80a",
   "metadata": {},
   "outputs": [],
   "source": [
    "#create new sub-df\n",
    "\n",
    "cust_spend = cust_profile[['age', 'income', 'department_id', 'num_dependants', 'days_since_prior_order']]"
   ]
  },
  {
   "cell_type": "code",
   "execution_count": 23,
   "id": "90a2e364",
   "metadata": {},
   "outputs": [],
   "source": [
    "#find top 10 items\n",
    "\n",
    "top_10 = cust_spend.sort_values(by='department_id', ascending=False).head(10)"
   ]
  },
  {
   "cell_type": "code",
   "execution_count": 24,
   "id": "edb0ee29",
   "metadata": {},
   "outputs": [
    {
     "data": {
      "text/html": [
       "<div>\n",
       "<style scoped>\n",
       "    .dataframe tbody tr th:only-of-type {\n",
       "        vertical-align: middle;\n",
       "    }\n",
       "\n",
       "    .dataframe tbody tr th {\n",
       "        vertical-align: top;\n",
       "    }\n",
       "\n",
       "    .dataframe thead th {\n",
       "        text-align: right;\n",
       "    }\n",
       "</style>\n",
       "<table border=\"1\" class=\"dataframe\">\n",
       "  <thead>\n",
       "    <tr style=\"text-align: right;\">\n",
       "      <th></th>\n",
       "      <th>age</th>\n",
       "      <th>income</th>\n",
       "      <th>department_id</th>\n",
       "      <th>num_dependants</th>\n",
       "      <th>days_since_prior_order</th>\n",
       "    </tr>\n",
       "  </thead>\n",
       "  <tbody>\n",
       "    <tr>\n",
       "      <th>28368158</th>\n",
       "      <td>56</td>\n",
       "      <td>156307</td>\n",
       "      <td>21</td>\n",
       "      <td>3</td>\n",
       "      <td>8.0</td>\n",
       "    </tr>\n",
       "    <tr>\n",
       "      <th>28963774</th>\n",
       "      <td>65</td>\n",
       "      <td>149947</td>\n",
       "      <td>21</td>\n",
       "      <td>3</td>\n",
       "      <td>24.0</td>\n",
       "    </tr>\n",
       "    <tr>\n",
       "      <th>9245927</th>\n",
       "      <td>20</td>\n",
       "      <td>70427</td>\n",
       "      <td>21</td>\n",
       "      <td>1</td>\n",
       "      <td>3.0</td>\n",
       "    </tr>\n",
       "    <tr>\n",
       "      <th>24549148</th>\n",
       "      <td>29</td>\n",
       "      <td>101262</td>\n",
       "      <td>21</td>\n",
       "      <td>2</td>\n",
       "      <td>16.0</td>\n",
       "    </tr>\n",
       "    <tr>\n",
       "      <th>24762645</th>\n",
       "      <td>71</td>\n",
       "      <td>129318</td>\n",
       "      <td>21</td>\n",
       "      <td>1</td>\n",
       "      <td>8.0</td>\n",
       "    </tr>\n",
       "    <tr>\n",
       "      <th>9245926</th>\n",
       "      <td>20</td>\n",
       "      <td>70427</td>\n",
       "      <td>21</td>\n",
       "      <td>1</td>\n",
       "      <td>7.0</td>\n",
       "    </tr>\n",
       "    <tr>\n",
       "      <th>6253094</th>\n",
       "      <td>66</td>\n",
       "      <td>106680</td>\n",
       "      <td>21</td>\n",
       "      <td>1</td>\n",
       "      <td>3.0</td>\n",
       "    </tr>\n",
       "    <tr>\n",
       "      <th>6253093</th>\n",
       "      <td>66</td>\n",
       "      <td>106680</td>\n",
       "      <td>21</td>\n",
       "      <td>1</td>\n",
       "      <td>3.0</td>\n",
       "    </tr>\n",
       "    <tr>\n",
       "      <th>24549160</th>\n",
       "      <td>29</td>\n",
       "      <td>101262</td>\n",
       "      <td>21</td>\n",
       "      <td>2</td>\n",
       "      <td>16.0</td>\n",
       "    </tr>\n",
       "    <tr>\n",
       "      <th>885358</th>\n",
       "      <td>63</td>\n",
       "      <td>131983</td>\n",
       "      <td>21</td>\n",
       "      <td>2</td>\n",
       "      <td>5.0</td>\n",
       "    </tr>\n",
       "  </tbody>\n",
       "</table>\n",
       "</div>"
      ],
      "text/plain": [
       "          age  income  department_id  num_dependants  days_since_prior_order\n",
       "28368158   56  156307             21               3                     8.0\n",
       "28963774   65  149947             21               3                    24.0\n",
       "9245927    20   70427             21               1                     3.0\n",
       "24549148   29  101262             21               2                    16.0\n",
       "24762645   71  129318             21               1                     8.0\n",
       "9245926    20   70427             21               1                     7.0\n",
       "6253094    66  106680             21               1                     3.0\n",
       "6253093    66  106680             21               1                     3.0\n",
       "24549160   29  101262             21               2                    16.0\n",
       "885358     63  131983             21               2                     5.0"
      ]
     },
     "execution_count": 24,
     "metadata": {},
     "output_type": "execute_result"
    }
   ],
   "source": [
    "top_10"
   ]
  },
  {
   "cell_type": "code",
   "execution_count": 25,
   "id": "ff6eb227",
   "metadata": {},
   "outputs": [
    {
     "data": {
      "text/plain": [
       "<AxesSubplot:xlabel='days_since_prior_order', ylabel='num_dependants'>"
      ]
     },
     "execution_count": 25,
     "metadata": {},
     "output_type": "execute_result"
    },
    {
     "data": {
      "image/png": "[encoded data removed]",
      "text/plain": [
       "<Figure size 640x480 with 1 Axes>"
      ]
     },
     "metadata": {},
     "output_type": "display_data"
    }
   ],
   "source": [
    "top_10.plot(x=\"days_since_prior_order\", y=\"num_dependants\", kind=\"scatter\")"
   ]
  },
  {
   "cell_type": "markdown",
   "id": "d0dd4c43",
   "metadata": {},
   "source": [
    "Based on the chart there is very loose correlation between household size and order frequency averging around 8 days between orders."
   ]
  },
  {
   "cell_type": "code",
   "execution_count": 26,
   "id": "348b80eb",
   "metadata": {},
   "outputs": [],
   "source": [
    "#find top 5 ages\n",
    "\n",
    "top_5_age = cust_spend.sort_values(by='age', ascending=False).head(5)"
   ]
  },
  {
   "cell_type": "code",
   "execution_count": 27,
   "id": "cdfd61d7",
   "metadata": {},
   "outputs": [
    {
     "data": {
      "image/png": "[encoded data removed]",
      "text/plain": [
       "<Figure size 640x480 with 1 Axes>"
      ]
     },
     "metadata": {},
     "output_type": "display_data"
    }
   ],
   "source": [
    "top_5_age_bar = sns.barplot(x='age',y='num_dependants', data=top_5_age)"
   ]
  },
  {
   "cell_type": "code",
   "execution_count": 28,
   "id": "7b5cbdb4",
   "metadata": {},
   "outputs": [],
   "source": [
    "region_spend = ords_prods_merge[['spend_habits', 'prices']].copy()"
   ]
  },
  {
   "cell_type": "code",
   "execution_count": 29,
   "id": "056344f0",
   "metadata": {},
   "outputs": [],
   "source": [
    "#Create a path\n",
    "\n",
    "path_new = r'C:\\Users\\senoe\\OneDrive\\SEN Docs\\Data Sci Job Applications\\CareerFoundry\\Datasets'"
   ]
  },
  {
   "cell_type": "code",
   "execution_count": 30,
   "id": "259de96d",
   "metadata": {},
   "outputs": [],
   "source": [
    "# export line chart outside of Jupyter in the form of an image file\n",
    "\n",
    "line.figure.savefig(os.path.join(path_new, 'Prepared data', 'age_income_line_task_10.png'))"
   ]
  },
  {
   "cell_type": "code",
   "execution_count": 31,
   "id": "6c3009c7",
   "metadata": {},
   "outputs": [],
   "source": [
    "# export scatter chart outside of Jupyter in the form of an image file\n",
    "\n",
    "hist.figure.savefig(os.path.join(path_new, 'Prepared data', 'household_size_task_10.png'))"
   ]
  },
  {
   "cell_type": "code",
   "execution_count": 32,
   "id": "af3cb33f",
   "metadata": {},
   "outputs": [],
   "source": [
    "# export bar chart outside of Jupyter in the form of an image file\n",
    "\n",
    "top_5_age_bar.figure.savefig(os.path.join(path_new, 'Prepared data', 'top_5_10.png'))"
   ]
  },
  {
   "cell_type": "code",
   "execution_count": 33,
   "id": "d8adad40",
   "metadata": {},
   "outputs": [
    {
     "name": "stdout",
     "output_type": "stream",
     "text": [
      "<class 'pandas.core.frame.DataFrame'>\n",
      "Int64Index: 30171424 entries, 0 to 32404854\n",
      "Data columns (total 33 columns):\n",
      " #   Column                  Dtype  \n",
      "---  ------                  -----  \n",
      " 0   order_id                int32  \n",
      " 1   user_id                 int32  \n",
      " 2   eval_set                object \n",
      " 3   order_number            int8   \n",
      " 4   orders_day_of_the_week  int8   \n",
      " 5   order_hour_of_day       int32  \n",
      " 6   days_since_prior_order  float16\n",
      " 7   product_id              int8   \n",
      " 8   add_to_cart_order       int64  \n",
      " 9   reordered               int8   \n",
      " 10  _merge                  object \n",
      " 11  product_name            object \n",
      " 12  aisle_id                int8   \n",
      " 13  department_id           int8   \n",
      " 14  prices                  float64\n",
      " 15  price_range_loc         object \n",
      " 16  busiest_day             object \n",
      " 17  busiest_period_of_day   object \n",
      " 18  max_order               int8   \n",
      " 19  loyalty_flag            object \n",
      " 20  loyalty_flag_price      object \n",
      " 21  order_flag              object \n",
      " 22  first_name              object \n",
      " 23  surname                 object \n",
      " 24  gender                  object \n",
      " 25  state                   object \n",
      " 26  age                     int8   \n",
      " 27  date_joined             object \n",
      " 28  num_dependants          int8   \n",
      " 29  fam_status              object \n",
      " 30  income                  int32  \n",
      " 31  region                  int32  \n",
      " 32  spend_habits            object \n",
      "dtypes: float16(1), float64(1), int32(5), int64(1), int8(9), object(16)\n",
      "memory usage: 5.1+ GB\n"
     ]
    }
   ],
   "source": [
    "ords_prods_merge.info()"
   ]
  },
  {
   "cell_type": "code",
   "execution_count": 34,
   "id": "0356ad45",
   "metadata": {},
   "outputs": [
    {
     "data": {
      "image/png": "[encoded data removed]",
      "text/plain": [
       "<Figure size 640x480 with 1 Axes>"
      ]
     },
     "metadata": {},
     "output_type": "display_data"
    }
   ],
   "source": [
    "#Creating bar plot\n",
    "ords_prods_merge_plot = sns.barplot(x = 'fam_status',y = 'income',data = ords_prods_merge, palette = \"Blues\")\n",
    "\n",
    "#Adding the aesthetics\n",
    "plt.title('Family Status')\n",
    "plt.xlabel('Marital Status')\n",
    "plt.ylabel('Income') \n",
    "# Show the plot\n",
    "plt.show()"
   ]
  },
  {
   "cell_type": "code",
   "execution_count": 35,
   "id": "1be1ffed",
   "metadata": {},
   "outputs": [],
   "source": [
    "# export bar chart outside of Jupyter in the form of an image file\n",
    "\n",
    "ords_prods_merge_plot.figure.savefig(os.path.join(path_new, 'Prepared data', 'fam_status_10.png'))"
   ]
  },
  {
   "cell_type": "code",
   "execution_count": 36,
   "id": "6caabcc2",
   "metadata": {},
   "outputs": [],
   "source": [
    "# Multiple Aggregations - multiple statistics\n",
    "\n",
    "Cust_profile = ords_prods_merge.groupby('product_name').agg({'days_since_prior_order': ['mean', 'min', 'max']})"
   ]
  },
  {
   "cell_type": "code",
   "execution_count": 37,
   "id": "4f23fa28",
   "metadata": {},
   "outputs": [
    {
     "data": {
      "image/png": "[encoded data removed]",
      "text/plain": [
       "<Figure size 640x480 with 1 Axes>"
      ]
     },
     "metadata": {},
     "output_type": "display_data"
    }
   ],
   "source": [
    "#Plotting bar histogram\n",
    "\n",
    "bar_hist= sns.distplot(Cust_profile['days_since_prior_order'], kde=False, color='blue', bins=10)\n",
    "\n",
    "#Adding the aesthetics\n",
    "plt.title('Aggregate customer-profile')\n",
    "plt.xlabel('Days Between Order')\n",
    "plt.ylabel('Expenditure') \n",
    "\n",
    "# Show the plot\n",
    "plt.show()"
   ]
  },
  {
   "cell_type": "markdown",
   "id": "2534ca36",
   "metadata": {},
   "source": [
    "The highest expenditures are 1-2 days of order then there is an increase again around days 9-12 and then again on days 27-30. "
   ]
  },
  {
   "cell_type": "code",
   "execution_count": 38,
   "id": "e6f8791b",
   "metadata": {},
   "outputs": [
    {
     "data": {
      "image/png": "[encoded data removed]",
      "text/plain": [
       "<Figure size 640x480 with 1 Axes>"
      ]
     },
     "metadata": {},
     "output_type": "display_data"
    }
   ],
   "source": [
    "#Creating the dataset\n",
    " \n",
    "df =ords_prods_merge.groupby('gender')['prices'].sum().to_frame().reset_index()\n",
    "\n",
    "#Creating the column plot \n",
    "gender = plt.bar(df['gender'],df['prices'],color = ['#F0F8FF','#E6E6FA','#B0E0E6']) \n",
    "\n",
    "#Adding the aesthetics\n",
    "\n",
    "plt.title('Gender vs Prices')\n",
    "plt.xlabel('Gender')\n",
    "plt.ylabel('Prices')\n",
    "\n",
    "#Show the plot\n",
    "\n",
    "plt.show()"
   ]
  },
  {
   "cell_type": "code",
   "execution_count": 39,
   "id": "580b9f32",
   "metadata": {},
   "outputs": [],
   "source": [
    "ords_prods_merge['region'] = ords_prods_merge['region'].astype('int')"
   ]
  },
  {
   "cell_type": "code",
   "execution_count": 40,
   "id": "696397ee",
   "metadata": {},
   "outputs": [],
   "source": [
    "ords_prods_merge['region'] = pd.to_numeric(ords_prods_merge['region'])"
   ]
  },
  {
   "cell_type": "code",
   "execution_count": 41,
   "id": "86d478a8",
   "metadata": {},
   "outputs": [
    {
     "data": {
      "image/png": "[encoded data removed]",
      "text/plain": [
       "<Figure size 640x480 with 1 Axes>"
      ]
     },
     "metadata": {},
     "output_type": "display_data"
    }
   ],
   "source": [
    "#Creating the dataset\n",
    " \n",
    "df_2 =ords_prods_merge.groupby('reordered')['region'].sum().to_frame().reset_index()\n",
    "\n",
    "#Creating the column plot \n",
    "plt.bar(df_2['reordered'], df_2['region'],color = ['#F0F8FF','#E6E6FA','#B0E0E6']) \n",
    "\n",
    "plt.title('Reordered vs Prices')\n",
    "plt.xlabel('Reordered')\n",
    "plt.ylabel('Region')\n",
    "\n",
    "plt.show()"
   ]
  },
  {
   "cell_type": "code",
   "execution_count": 42,
   "id": "717b8cf4",
   "metadata": {},
   "outputs": [],
   "source": [
    "# export hist bar chart outside of Jupyter in the form of an image file\n",
    "\n",
    "bar_hist.figure.savefig(os.path.join(path_new, 'Prepared data', 'freq_dependants_bar_task_10.png'))"
   ]
  },
  {
   "cell_type": "code",
   "execution_count": 43,
   "id": "6c68f19c",
   "metadata": {},
   "outputs": [],
   "source": [
    "#Create a path\n",
    "\n",
    "path_new = r'C:\\Users\\senoe\\OneDrive\\SEN Docs\\Data Sci Job Applications\\CareerFoundry\\Datasets'"
   ]
  },
  {
   "cell_type": "code",
   "execution_count": 44,
   "id": "61d934dd",
   "metadata": {},
   "outputs": [],
   "source": [
    "# Export data to pkl\n",
    "\n",
    "ords_prods_merge.to_pickle(os.path.join(path_new, 'Sent Client', 'orders_products_merge_comined_2.pkl'))"
   ]
  }
 ],
 "metadata": {
  "kernelspec": {
   "display_name": "Python 3 (ipykernel)",
   "language": "python",
   "name": "python3"
  },
  "language_info": {
   "codemirror_mode": {
    "name": "ipython",
    "version": 3
   },
   "file_extension": ".py",
   "mimetype": "text/x-python",
   "name": "python",
   "nbconvert_exporter": "python",
   "pygments_lexer": "ipython3",
   "version": "3.9.13"
  }
 },
 "nbformat": 4,
 "nbformat_minor": 5
}
